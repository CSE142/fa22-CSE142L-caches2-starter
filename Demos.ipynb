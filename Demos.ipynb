{
 "cells": [
  {
   "cell_type": "code",
   "execution_count": 1,
   "metadata": {
    "init_cell": true
   },
   "outputs": [],
   "source": [
    "%load_ext autoreload\n",
    "%autoreload 2\n",
    "from CSE142L.notebook import *\n",
    "from notebook import *\n",
    "from cfiddle import *\n",
    "# if get something about NUMEXPR_MAX_THREADS being set incorrectly, don't worry.  It's not a problem."
   ]
  },
  {
   "cell_type": "markdown",
   "metadata": {},
   "source": [
    "#KEY include Namebox.ipynb"
   ]
  },
  {
   "cell_type": "markdown",
   "metadata": {},
   "source": [
    "<div style=\" font-size: 300% !important;\n",
    "    margin-top: 1.5em;\n",
    "    margin-bottom: 1.5em;\n",
    "    font-weight: bold;\n",
    "    line-height: 1.0;\n",
    "    text-align:center;\">Lab 4: The Memory Hierarchy (Part II) -- Demos</div>\n"
   ]
  },
  {
   "cell_type": "markdown",
   "metadata": {},
   "source": [
    "# Image Stabilization"
   ]
  },
  {
   "cell_type": "markdown",
   "metadata": {
    "heading_collapsed": true
   },
   "source": [
    "# Instruction Latency"
   ]
  },
  {
   "cell_type": "markdown",
   "metadata": {
    "hidden": true
   },
   "source": [
    "## Let's measure the latency of an mov instruction\n",
    "\n",
    "Check the dependences, this doesn't really measure the latency of the mov.  It measures the add...\n",
    "\n",
    "Can we clean this up?  Maybe turn it into a template based on type?\n"
   ]
  },
  {
   "cell_type": "code",
   "execution_count": null,
   "metadata": {
    "hidden": true
   },
   "outputs": [],
   "source": [
    "def measure_latency(source, function, divisor, *argc, **kwargs):\n",
    "    \n",
    "    compiled =build(source, arg_map(OPTIMIZE=\"-O0\"))\n",
    "    display(compiled[0].source(function))\n",
    "    display(compiled[0].cfg(function))\n",
    "\n",
    "    with local_execution():\n",
    "        run_data = run(compiled, function, *argc, **kwargs)\n",
    "    df = PE_calc(run_data.as_df())\n",
    "    df[\"Cycles/iteration\"] = df[\"cycles\"]/df[\"count\"]\n",
    "    df[\"Cycles/inst\"] = df[\"cycles\"]/df[\"count\"]/(divisor+0.0)\n",
    "    display(df[[\"Cycles/iteration\", \"Cycles/inst\"]])"
   ]
  },
  {
   "cell_type": "code",
   "execution_count": null,
   "metadata": {
    "hidden": true
   },
   "outputs": [],
   "source": [
    "measure_latency(code(r\"\"\"\n",
    "#include\"cfiddle.hpp\"\n",
    "#include<vector>\n",
    "#include<cstdint>\n",
    "\n",
    "extern \"C\"\n",
    "uint64_t wide_1(register uint64_t count) {\n",
    "    register uint64_t k =0;\n",
    "    register uint64_t n =0;\n",
    "    start_measurement();\n",
    "\tfor(register uint64_t i = 0; i < count; i++) {\n",
    "\t\tn = k;\n",
    "\t}\n",
    "    end_measurement();\n",
    "    return n;\n",
    "}\n",
    "\"\"\"), \"wide_1\", 1, arg_map(count=10000000))"
   ]
  },
  {
   "cell_type": "markdown",
   "metadata": {
    "hidden": true
   },
   "source": [
    "## Let's measure the latency of an add instruction"
   ]
  },
  {
   "cell_type": "code",
   "execution_count": null,
   "metadata": {
    "hidden": true
   },
   "outputs": [],
   "source": [
    "measure_latency(code(r\"\"\"\n",
    "#include\"cfiddle.hpp\"\n",
    "#include<vector>\n",
    "#include<cstdint>\n",
    "\n",
    "extern \"C\"\n",
    "uint64_t wide_1(register uint64_t count) {\n",
    "\tregister uint64_t j =0;\n",
    "    start_measurement();\n",
    "\tfor(register uint64_t i = 0; i < count; i++) {\n",
    "\t\tj = j+1;\n",
    "\t\tj = j+1;       \n",
    "\t\tj = j+1;       \n",
    "\t\tj = j+1;       \n",
    "\t\tj = j+1;\n",
    "\t}\n",
    "    end_measurement();\n",
    "    return j;\n",
    "}\n",
    "\"\"\"), \"wide_1\", 5, arg_map(count=10000000))"
   ]
  },
  {
   "cell_type": "markdown",
   "metadata": {
    "hidden": true
   },
   "source": [
    "## Adding `double`"
   ]
  },
  {
   "cell_type": "code",
   "execution_count": null,
   "metadata": {
    "hidden": true
   },
   "outputs": [],
   "source": [
    "measure_latency(code(r\"\"\"\n",
    "#include\"cfiddle.hpp\"\n",
    "#include<vector>\n",
    "#include<cstdint>\n",
    "\n",
    "extern \"C\"\n",
    "double wide_1(register uint64_t count) {\n",
    "\tregister double j =0;\n",
    "    register double k =1.0;\n",
    "    start_measurement();\n",
    "\tfor(register uint64_t i = 0; i < count; i++) {\n",
    "\t\tj = j+k;\n",
    "\t\tj = j+k;       \n",
    "\t\tj = j+k;       \n",
    "\t\tj = j+k;       \n",
    "\t\tj = j+k;\n",
    "\t}\n",
    "    end_measurement();\n",
    "    return j;\n",
    "}\n",
    "\"\"\"), \"wide_1\", 5.0, arg_map(count=10000000))"
   ]
  },
  {
   "cell_type": "code",
   "execution_count": null,
   "metadata": {
    "hidden": true
   },
   "outputs": [],
   "source": [
    "with local_execution():\n",
    "    wide_1_run = run(wide_1, \"wide_1\", arg_map(count=10000000))\n",
    "df = PE_calc(wide_1_run.as_df())\n",
    "df[\"Cycles/iteration\"] = df[\"cycles\"]/df[\"count\"]\n",
    "df[\"Cycles/inst\"] = df[\"cycles\"]/df[\"count\"]/5.0\n",
    "display(df[[\"Cycles/iteration\", \"Cycles/inst\"]])"
   ]
  },
  {
   "cell_type": "markdown",
   "metadata": {
    "hidden": true
   },
   "source": [
    "## `float` add"
   ]
  },
  {
   "cell_type": "code",
   "execution_count": null,
   "metadata": {
    "hidden": true
   },
   "outputs": [],
   "source": [
    "wide_1 =build(code(r\"\"\"\n",
    "#include\"cfiddle.hpp\"\n",
    "#include<vector>\n",
    "#include<cstdint>\n",
    "\n",
    "extern \"C\"\n",
    "float wide_1(register uint64_t count) {\n",
    "\tregister float j =0;\n",
    "    register float k =1.0;\n",
    "    start_measurement();\n",
    "\tfor(register uint64_t i = 0; i < count; i++) {\n",
    "\t\tj = j+k;\n",
    "\t\tj = j+k;       \n",
    "\t\tj = j+k;       \n",
    "\t\tj = j+k;       \n",
    "\t\tj = j+k;\n",
    "\t}\n",
    "    end_measurement();\n",
    "    return j;\n",
    "}\n",
    "\"\"\"), arg_map(OPTIMIZE=\"-O0\"))\n",
    "\n",
    "display(wide_1[0].source(\"wide_1\"))\n",
    "display(wide_1[0].cfg(\"wide_1\"))"
   ]
  },
  {
   "cell_type": "code",
   "execution_count": null,
   "metadata": {
    "hidden": true
   },
   "outputs": [],
   "source": [
    "with local_execution():\n",
    "    wide_1_run = run(wide_1, \"wide_1\", arg_map(count=10000000))\n",
    "df = PE_calc(wide_1_run.as_df())\n",
    "df[\"Cycles/iteration\"] = df[\"cycles\"]/df[\"count\"]\n",
    "df[\"Cycles/inst\"] = df[\"cycles\"]/df[\"count\"]/5.0\n",
    "display(df[[\"Cycles/iteration\", \"Cycles/inst\"]])"
   ]
  },
  {
   "cell_type": "markdown",
   "metadata": {
    "hidden": true
   },
   "source": [
    "## Floating Point Divide"
   ]
  },
  {
   "cell_type": "code",
   "execution_count": null,
   "metadata": {
    "hidden": true
   },
   "outputs": [],
   "source": [
    "wide_1 =build(code(r\"\"\"\n",
    "#include\"cfiddle.hpp\"\n",
    "#include<vector>\n",
    "#include<cstdint>\n",
    "\n",
    "extern \"C\"\n",
    "float wide_1(register uint64_t count) {\n",
    "\tregister float j =0;\n",
    "    register float k =1.0;\n",
    "    start_measurement();\n",
    "\tfor(register uint64_t i = 0; i < count; i++) {\n",
    "\t\tj = j/k;\n",
    "\t\tj = j/k;       \n",
    "\t\tj = j/k;       \n",
    "\t\tj = j/k;       \n",
    "\t\tj = j/k;\n",
    "\t}\n",
    "    end_measurement();\n",
    "    return j;\n",
    "}\n",
    "\"\"\"), arg_map(OPTIMIZE=\"-O0\"))\n",
    "display(wide_1[0].source(\"wide_1\"))\n",
    "\n",
    "display(wide_1[0].cfg(\"wide_1\"))"
   ]
  },
  {
   "cell_type": "code",
   "execution_count": null,
   "metadata": {
    "hidden": true
   },
   "outputs": [],
   "source": [
    "with local_execution():\n",
    "    wide_1_run = run(wide_1, \"wide_1\", arg_map(count=10000000))\n",
    "df = PE_calc(wide_1_run.as_df())\n",
    "df[\"Cycles/iteration\"] = df[\"cycles\"]/df[\"count\"]\n",
    "df[\"Cycles/inst\"] = df[\"cycles\"]/df[\"count\"]/5.0\n",
    "display(df[[\"Cycles/iteration\", \"Cycles/inst\"]])"
   ]
  },
  {
   "cell_type": "markdown",
   "metadata": {
    "hidden": true
   },
   "source": [
    "## Integer Divide"
   ]
  },
  {
   "cell_type": "code",
   "execution_count": null,
   "metadata": {
    "hidden": true
   },
   "outputs": [],
   "source": [
    "wide_1 =build(code(r\"\"\"\n",
    "#include\"cfiddle.hpp\"\n",
    "#include<vector>\n",
    "#include<cstdint>\n",
    "\n",
    "extern \"C\"\n",
    "uint64_t wide_1(register uint64_t count) {\n",
    "\tregister uint64_t  j =(uint64_t)-1;\n",
    "    register uint64_t  k =2;\n",
    "    start_measurement();\n",
    "\tfor(register uint64_t i = 0; i < count; i++) {\n",
    "\t\tj = j/k;\n",
    "\t\tj = j/k;       \n",
    "\t\tj = j/k;       \n",
    "\t\tj = j/k;      \n",
    "\t\tj = j/k;\n",
    "\t}\n",
    "    end_measurement();\n",
    "    return j;\n",
    "}\n",
    "\"\"\"), arg_map(OPTIMIZE=\"-O0\"))\n",
    "display(wide_1[0].source(\"wide_1\"))\n",
    "display(wide_1[0].cfg(\"wide_1\"))"
   ]
  },
  {
   "cell_type": "code",
   "execution_count": null,
   "metadata": {
    "hidden": true
   },
   "outputs": [],
   "source": [
    "with local_execution():\n",
    "    wide_1_run = run(wide_1, \"wide_1\", arg_map(count=10000000))\n",
    "df = PE_calc(wide_1_run.as_df())\n",
    "df[\"Cycles/iteration\"] = df[\"cycles\"]/df[\"count\"]\n",
    "df[\"Cycles/inst\"] = df[\"cycles\"]/df[\"count\"]/5.0\n",
    "display(df[[\"Cycles/iteration\", \"Cycles/inst\"]])"
   ]
  },
  {
   "cell_type": "markdown",
   "metadata": {
    "hidden": true
   },
   "source": [
    "## Parallel Divides"
   ]
  },
  {
   "cell_type": "code",
   "execution_count": null,
   "metadata": {
    "hidden": true
   },
   "outputs": [],
   "source": [
    "wide_1 =build(code(r\"\"\"\n",
    "#include\"cfiddle.hpp\"\n",
    "#include<vector>\n",
    "#include<cstdint>\n",
    "\n",
    "extern \"C\"\n",
    "float wide_1(register uint64_t count) {\n",
    "\tregister float j =10.0000;\n",
    "\tregister float jj =12.0000;\n",
    "    register float k =1.0;\n",
    "    start_measurement();\n",
    "\tfor(register uint64_t i = 0; i < count; i++) {\n",
    "\t\tj = j/k;\n",
    "\t\tj = j/k;       \n",
    "\t\tj = j/k;       \n",
    "\t\tj = j/k;       \n",
    "\t\tj = j/k;\n",
    "\n",
    "\t\tjj = jj/k;\n",
    "\t\tjj = jj/k;       \n",
    "\t\tjj = jj/k;       \n",
    "\t\tjj = jj/k;       \n",
    "\t\tjj = jj/k;\n",
    "    }\n",
    "    end_measurement();\n",
    "    return j + jj;\n",
    "}\n",
    "\"\"\"), arg_map(OPTIMIZE=\"-O0\"))\n",
    "display(wide_1[0].cfg(\"wide_1\"))\n",
    "display(wide_1[0].source(\"wide_1\"))\n",
    "with local_execution():\n",
    "    wide_1_run = run(wide_1, \"wide_1\", arg_map(count=10000000))\n",
    "df = PE_calc(wide_1_run.as_df())\n",
    "df[\"Cycles/iteration\"] = df[\"cycles\"]/df[\"count\"]\n",
    "df[\"Cycles/inst\"] = df[\"cycles\"]/df[\"count\"]/10.0\n",
    "display(df[[\"Cycles/iteration\", \"Cycles/inst\"]])"
   ]
  },
  {
   "cell_type": "code",
   "execution_count": null,
   "metadata": {
    "hidden": true
   },
   "outputs": [],
   "source": [
    "display(div2.cfg)\n",
    "df = render_csv(\"div2.csv\")\n",
    "df[\"Cycles/iteration\"] = df[\"cycles\"]/df[\"size\"]\n",
    "df[\"Cycles/op\"] = df[\"cycles\"]/df[\"size\"]/5.0\n",
    "display(df[[\"Cycles/iteration\", \"Cycles/inst\", \"CPI\"]])"
   ]
  },
  {
   "cell_type": "code",
   "execution_count": null,
   "metadata": {
    "hidden": true
   },
   "outputs": [],
   "source": [
    "measure_latency(code(r\"\"\"\n",
    "#include\"cfiddle.hpp\"\n",
    "#include<vector>\n",
    "#include<cstdint>\n",
    "\n",
    "extern \"C\"\n",
    "double wide_1(uint64_t count, float arg1) {\n",
    "\tregister double j =0;\n",
    "\tregister double jj = 8324.93242;\n",
    "\tregister double jjj = 83324.93242;\n",
    "    register double k = arg1 + 7.3;\n",
    "    \n",
    "    start_measurement();\n",
    "\tfor(unsigned i = 0; i < count; i++) {\n",
    "\t\tj = j/k;\n",
    "\t\tj = j/k;       \n",
    "\t\tj = j/k;       \n",
    "\t\tj = j/k;       \n",
    "\t\tj = j/k;\n",
    "\n",
    "        jj = jj/k;\n",
    "\t\tjj = jj/k;       \n",
    "\t\tjj = jj/k;       \n",
    "\t\tjj = jj/k;       \n",
    "\t\tjj = jj/k;\n",
    "\n",
    "        jjj = jjj/k;\n",
    "\t\tjjj = jjj/k;       \n",
    "\t\tjjj = jjj/k;       \n",
    "\t\tjjj = jjj/k;       \n",
    "\t\tjjj = jjj/k;\n",
    "\t}\n",
    "    end_measurement();\n",
    "\n",
    "\treturn j + jj + jjj;\n",
    "}\n",
    "\"\"\"), \"wide_1\", 16, arg_map(count=10000000, arg1=1.0))"
   ]
  },
  {
   "cell_type": "code",
   "execution_count": null,
   "metadata": {
    "hidden": true
   },
   "outputs": [],
   "source": [
    "display(div3.cfg)\n",
    "df = render_csv(\"div3.csv\")\n",
    "df[\"Cycles/iteration\"] = df[\"cycles\"]/df[\"size\"]\n",
    "df[\"Cycles/op\"] = df[\"cycles\"]/df[\"size\"]/5.0\n",
    "display(df[[\"Cycles/iteration\", \"Cycles/inst\", \"CPI\"]])"
   ]
  },
  {
   "cell_type": "code",
   "execution_count": null,
   "metadata": {
    "hidden": true
   },
   "outputs": [],
   "source": [
    "measure_latency(code(r\"\"\"\n",
    "#include\"cfiddle.hpp\"\n",
    "#include<vector>\n",
    "#include<cstdint>\n",
    "\n",
    "extern \"C\"\n",
    "double wide_1(uint64_t count, float arg1) {\n",
    "\tregister double j =0;\n",
    "\tregister double jj = 8324.93242;\n",
    "\tregister double jjj = 83324.93242;\n",
    "\tregister double jjjj = 83324.93242;\n",
    "    register double k = arg1 + 7.3;\n",
    "    \n",
    "    start_measurement();\n",
    "\tfor(unsigned i = 0; i < count; i++) {\n",
    "\t\tj = j/k;\n",
    "\t\tj = j/k;       \n",
    "\t\tj = j/k;       \n",
    "\t\tj = j/k;       \n",
    "\t\tj = j/k;\n",
    "\n",
    "        jj = jj/k;\n",
    "\t\tjj = jj/k;       \n",
    "\t\tjj = jj/k;       \n",
    "\t\tjj = jj/k;       \n",
    "\t\tjj = jj/k;\n",
    "\n",
    "        jjj = jjj/k;\n",
    "\t\tjjj = jjj/k;       \n",
    "\t\tjjj = jjj/k;       \n",
    "\t\tjjj = jjj/k;       \n",
    "\t\tjjj = jjj/k;\n",
    "        \n",
    "        jjjj = jjjj/k;\n",
    "\t\tjjjj = jjjj/k;       \n",
    "\t\tjjjj = jjjj/k;       \n",
    "\t\tjjjj = jjjj/k;       \n",
    "\t\tjjjj = jjjj/k;\n",
    "\t}\n",
    "    end_measurement();\n",
    "\n",
    "\treturn j + jj + jjj+jjjj;\n",
    "}\n",
    "\"\"\"), \"wide_1\", 16, arg_map(count=10000000, arg1=1.0))\n"
   ]
  },
  {
   "cell_type": "code",
   "execution_count": null,
   "metadata": {
    "hidden": true
   },
   "outputs": [],
   "source": [
    "display(div4.cfg)\n",
    "df = render_csv(\"div4.csv\")\n",
    "df[\"Cycles/iteration\"] = df[\"cycles\"]/df[\"size\"]\n",
    "df[\"Cycles/op\"] = df[\"cycles\"]/df[\"size\"]/5.0\n",
    "display(df[[\"Cycles/iteration\", \"Cycles/inst\", \"CPI\"]])"
   ]
  },
  {
   "cell_type": "code",
   "execution_count": null,
   "metadata": {
    "hidden": true
   },
   "outputs": [],
   "source": [
    "measure_latency(code(r\"\"\"\n",
    "#include\"cfiddle.hpp\"\n",
    "#include<vector>\n",
    "#include<cstdint>\n",
    "\n",
    "extern \"C\"\n",
    "double wide_1(uint64_t count, float arg1) {\n",
    "\tregister double j =0;\n",
    "\tregister double jj = 8324.93242;\n",
    "\tregister double jjj = 83324.93242;\n",
    "\tregister double jjjj = 83324.93242;\n",
    "\tregister double jjjjj = 83324.93242;\n",
    "    register double k = arg1 + 7.3;\n",
    "    \n",
    "    start_measurement();\n",
    "\tfor(unsigned i = 0; i < count; i++) {\n",
    "\t\tj = j/k;\n",
    "\t\tj = j/k;       \n",
    "\t\tj = j/k;       \n",
    "\t\tj = j/k;       \n",
    "\t\tj = j/k;\n",
    "\n",
    "        jj = jj/k;\n",
    "\t\tjj = jj/k;       \n",
    "\t\tjj = jj/k;       \n",
    "\t\tjj = jj/k;       \n",
    "\t\tjj = jj/k;\n",
    "\n",
    "        jjj = jjj/k;\n",
    "\t\tjjj = jjj/k;       \n",
    "\t\tjjj = jjj/k;       \n",
    "\t\tjjj = jjj/k;       \n",
    "\t\tjjj = jjj/k;\n",
    "        \n",
    "        jjjj = jjjj/k;\n",
    "\t\tjjjj = jjjj/k;       \n",
    "\t\tjjjj = jjjj/k;       \n",
    "\t\tjjjj = jjjj/k;       \n",
    "\t\tjjjj = jjjj/k;\n",
    "\n",
    "        jjjjj = jjjjj/k;\n",
    "\t\tjjjjj = jjjjj/k;       \n",
    "\t\tjjjjj = jjjjj/k;       \n",
    "\t\tjjjjj = jjjjj/k;       \n",
    "\t\tjjjjj = jjjjj/k;\n",
    "\n",
    "\t}\n",
    "    end_measurement();\n",
    "\n",
    "\treturn j + jj + jjj+jjjj+jjjjj;\n",
    "}\n",
    "\"\"\"), \"wide_1\", 16, arg_map(count=10000000, arg1=1.0))\n",
    "\n"
   ]
  },
  {
   "cell_type": "markdown",
   "metadata": {},
   "source": [
    "# Floating point"
   ]
  },
  {
   "cell_type": "markdown",
   "metadata": {},
   "source": [
    "1. Numerical instability -- sort and add\n",
    "2. FMA speedup\n",
    "3. Gallery of weird results."
   ]
  },
  {
   "cell_type": "markdown",
   "metadata": {},
   "source": [
    "# Vectors"
   ]
  },
  {
   "cell_type": "code",
   "execution_count": null,
   "metadata": {},
   "outputs": [],
   "source": []
  },
  {
   "cell_type": "markdown",
   "metadata": {},
   "source": [
    "## Floats"
   ]
  },
  {
   "cell_type": "code",
   "execution_count": null,
   "metadata": {},
   "outputs": [],
   "source": [
    "cfgs=[]\n",
    "asm=[]\n",
    "files=[]"
   ]
  },
  {
   "cell_type": "code",
   "execution_count": null,
   "metadata": {},
   "outputs": [],
   "source": [
    "os.environ[\"OPENMP\"]=\"yes\"\n",
    "for opts in [\"-O0\", \"-O1 -fno-openmp\", \"-O3 -fno-unroll-loops\", \"-O3 -march=skylake -fno-unroll-loops\"]:\n",
    "    filename = f\"vsum-{opts.replace(' ','')}\"\n",
    "    fiddle(\"inst_lat.cpp\", code=\"\"\"\n",
    "    #include\"function_map.hpp\"\n",
    "    #include<cstdint>\n",
    "    #include<cmath>\n",
    "\n",
    "    extern \"C\"\n",
    "    void __attribute__((noinline)) vsum(register float *a, register float *b, register float * c, register uint64_t n) {\n",
    "    #ifdef _OPENMP\n",
    "    #pragma omp simd\n",
    "    #endif\n",
    "        for(unsigned int i = 0; i < n; i++) {\n",
    "            c[i] = a[i] + b[i];\n",
    "        }\n",
    "    }\n",
    "\n",
    "    extern \"C\"\n",
    "    uint64_t* wide_1(uint64_t * data, uint64_t size, uint64_t arg1) {\n",
    "        auto a = new float[size];\n",
    "        auto b = new float[size];\n",
    "        auto c = new float[size];\n",
    "        vsum(a,b,c, size);\n",
    "        data[0] = a[4];\n",
    "        return data;\n",
    "    }\n",
    "    FUNCTION(one_array_1arg, wide_1);\n",
    "    \"\"\",\n",
    "           function=[\"wide_1\"], name=filename, analyze=False, opt=opts, run=[\"perf_count\"], \n",
    "               cmdline=f\"--size 10000000\", \n",
    "               perf_cmdline=\"--stat-set PE.cfg --MHz 3500\")\n",
    "    cfgs.append(do_cfg(\"build/inst_lat.so\", symbol=\"vsum\"))\n",
    "    asm.append(do_render_code(\"build/inst_lat.s\", lang=\"gas\", show=\"vsum\"))\n",
    "    files.append(f\"{filename}.csv\")"
   ]
  },
  {
   "cell_type": "code",
   "execution_count": null,
   "metadata": {},
   "outputs": [],
   "source": [
    "display(asm[0]) # Nothing"
   ]
  },
  {
   "cell_type": "code",
   "execution_count": null,
   "metadata": {},
   "outputs": [],
   "source": [
    "display(cfgs[1]) # Normal opt"
   ]
  },
  {
   "cell_type": "code",
   "execution_count": null,
   "metadata": {},
   "outputs": [],
   "source": [
    "display(cfgs[2]) # OpenMP SIMD"
   ]
  },
  {
   "cell_type": "code",
   "execution_count": null,
   "metadata": {},
   "outputs": [],
   "source": [
    "display(cfgs[3]) #OPenMP SIMD AVX"
   ]
  },
  {
   "cell_type": "code",
   "execution_count": null,
   "metadata": {},
   "outputs": [],
   "source": [
    "\n",
    "df=render_csv(files)\n",
    "df[\"file\"] = files\n",
    "df[\"GHz\"] = 1/df[\"CT\"]/1e9\n",
    "df[\"CT_ns\"] = df[\"CT\"]*1e9\n",
    "df[\"What we should get\"]= df[\"IC\"]*df[\"CPI\"]\n",
    "df[[\"file\",\"IC\", \"CPI\", \"CT_ns\", \"ET\",  \"GHz\", \"What we should get\"]]\n"
   ]
  },
  {
   "cell_type": "markdown",
   "metadata": {},
   "source": [
    "## Integers\n"
   ]
  },
  {
   "cell_type": "code",
   "execution_count": null,
   "metadata": {},
   "outputs": [],
   "source": [
    "icfgs=[]\n",
    "iasm=[]\n",
    "ifiles=[]\n",
    "\n",
    "os.environ[\"OPENMP\"]=\"yes\"\n",
    "for opts in [\"-O0\", \"-O1 -fno-openmp\", \"-O3 -fno-unroll-loops\", \"-O3 -march=skylake -fno-unroll-loops\"]:\n",
    "    filename = f\"vsum-int-{opts.replace(' ','')}\"\n",
    "    fiddle(\"inst_lat.cpp\", code=\"\"\"\n",
    "    #include\"function_map.hpp\"\n",
    "    #include<cstdint>\n",
    "    #include<cmath>\n",
    "\n",
    "    extern \"C\"\n",
    "    void __attribute__((noinline)) vsum(register int *a, register int *b, register  * c, register size_t n) {\n",
    "    #ifdef _OPENMP\n",
    "    #pragma omp simd\n",
    "    #endif\n",
    "        for(unsigned int i = 0; i < n; i++) {\n",
    "            c[i] = a[i] + b[i];\n",
    "        }\n",
    "    }\n",
    "\n",
    "    extern \"C\"\n",
    "    uint64_t* wide_1(uint64_t * data, uint64_t size, uint64_t arg1) {\n",
    "        auto a = new int[size];\n",
    "        auto b = new int[size];\n",
    "        auto c = new int[size];\n",
    "        vsum(a,b,c, size);\n",
    "        data[0] = a[4];\n",
    "        return data;\n",
    "    }\n",
    "    FUNCTION(one_array_1arg, wide_1);\n",
    "    \"\"\",\n",
    "           function=[\"wide_1\"], name=filename, analyze=False, opt=opts, run=[\"perf_count\"], \n",
    "               cmdline=f\"--size 10000000\", \n",
    "               perf_cmdline=\"--stat-set PE.cfg --MHz 3500\")\n",
    "    icfgs.append(do_cfg(\"build/inst_lat.so\", symbol=\"vsum\"))\n",
    "    iasm.append(do_render_code(\"build/inst_lat.s\", lang=\"gas\", show=\"vsum\"))\n",
    "    ifiles.append(f\"{filename}.csv\")"
   ]
  },
  {
   "cell_type": "code",
   "execution_count": null,
   "metadata": {},
   "outputs": [],
   "source": [
    "display(iasm[0]) # Nothing"
   ]
  },
  {
   "cell_type": "code",
   "execution_count": null,
   "metadata": {},
   "outputs": [],
   "source": [
    "display(icfgs[1]) # Normal opt"
   ]
  },
  {
   "cell_type": "code",
   "execution_count": null,
   "metadata": {
    "collapsed": true
   },
   "outputs": [],
   "source": [
    "display(icfgs[2]) # Normal opt"
   ]
  },
  {
   "cell_type": "code",
   "execution_count": null,
   "metadata": {
    "collapsed": true
   },
   "outputs": [],
   "source": [
    "display(icfgs[3]) # Normal opt"
   ]
  },
  {
   "cell_type": "code",
   "execution_count": null,
   "metadata": {},
   "outputs": [],
   "source": [
    "\n",
    "df=render_csv(ifiles)\n",
    "df[\"file\"] = ifiles\n",
    "df[\"GHz\"] = 1/df[\"CT\"]/1e9\n",
    "df[\"CT_ns\"] = df[\"CT\"]*1e9\n",
    "df[[\"file\",\"IC\", \"CPI\", \"CT_ns\", \"ET\",  \"GHz\"]]"
   ]
  },
  {
   "cell_type": "code",
   "execution_count": 8,
   "metadata": {},
   "outputs": [
    {
     "data": {
      "application/vnd.jupyter.widget-view+json": {
       "model_id": "c48a21e51c71497687ed5b41fb01a436",
       "version_major": 2,
       "version_minor": 0
      },
      "text/plain": [
       "  0%|          | 0/1 [00:00<?, ?it/s]"
      ]
     },
     "metadata": {},
     "output_type": "display_data"
    },
    {
     "ename": "CFiddleException",
     "evalue": "CFiddle encountered an error (call `enable_debug()` for full details):\nBuild command failed:\n\nmake -R -f /cse142L/cfiddle/src/cfiddle/resources/make/cfiddle.make MORE_INCLUDES=-I/cse142L/CSE141pp-Tool-Moneta/moneta/ BUILD=.cfiddle/builds/build/53c056c7a79560388b34cea1fa6a8ad8_6e980da47a73eb849df27d1005288d07 CFIDDLE_INCLUDE=/cse142L/cfiddle/src/cfiddle/resources/include CFIDDLE_VPATH=.cfiddle/builds/anonymous_code:.cfiddle/builds/build/53c056c7a79560388b34cea1fa6a8ad8_6e980da47a73eb849df27d1005288d07 TARGET=x86_64-linux-gnu .cfiddle/builds/build/53c056c7a79560388b34cea1fa6a8ad8_6e980da47a73eb849df27d1005288d07/6e980da47a73eb849df27d1005288d07.so\n\ng++ -c -Wall -Werror  -g3 -fPIC  -I. -I/cse142L/cfiddle/src/cfiddle/resources/include -I/usr/local/include  -I/cse142L/CSE141pp-Tool-Moneta/moneta/  -MMD -save-temps=obj -std=gnu++11  .cfiddle/builds/anonymous_code/6e980da47a73eb849df27d1005288d07.cpp -o .cfiddle/builds/build/53c056c7a79560388b34cea1fa6a8ad8_6e980da47a73eb849df27d1005288d07/6e980da47a73eb849df27d1005288d07.o\n.cfiddle/builds/anonymous_code/6e980da47a73eb849df27d1005288d07.cpp:1:2: error: ‘aoeu’ does not name a type\n    1 |  aoeu\n      |  ^~~~\nmake: *** [/cse142L/cfiddle/src/cfiddle/resources/make/cfiddle.make:48: .cfiddle/builds/build/53c056c7a79560388b34cea1fa6a8ad8_6e980da47a73eb849df27d1005288d07/6e980da47a73eb849df27d1005288d07.o] Error 1\n",
     "output_type": "error",
     "traceback": [
      "\u001b[0;31m---------------------------------------------------------------------------\u001b[0m",
      "\u001b[0;31mBuildFailure\u001b[0m                              Traceback (most recent call last)",
      "File \u001b[0;32m/cse142L/cfiddle/src/cfiddle/Exceptions.py:13\u001b[0m, in \u001b[0;36mhandle_cfiddle_exceptions.<locals>.wrapped\u001b[0;34m(*argc, **kwargs)\u001b[0m\n\u001b[1;32m     12\u001b[0m \u001b[38;5;28;01mtry\u001b[39;00m:\n\u001b[0;32m---> 13\u001b[0m     \u001b[38;5;28;01mreturn\u001b[39;00m \u001b[43mf\u001b[49m\u001b[43m(\u001b[49m\u001b[38;5;241;43m*\u001b[39;49m\u001b[43margc\u001b[49m\u001b[43m,\u001b[49m\u001b[43m \u001b[49m\u001b[38;5;241;43m*\u001b[39;49m\u001b[38;5;241;43m*\u001b[39;49m\u001b[43mkwargs\u001b[49m\u001b[43m)\u001b[49m\n\u001b[1;32m     14\u001b[0m \u001b[38;5;28;01mexcept\u001b[39;00m CFiddleException \u001b[38;5;28;01mas\u001b[39;00m e:\n",
      "File \u001b[0;32m/cse142L/cfiddle/src/cfiddle/__init__.py:91\u001b[0m, in \u001b[0;36mbuild\u001b[0;34m(source, build_parameters, **kwargs)\u001b[0m\n\u001b[1;32m     90\u001b[0m \u001b[38;5;28;01mfor\u001b[39;00m p \u001b[38;5;129;01min\u001b[39;00m progress_bar(builds, miniters\u001b[38;5;241m=\u001b[39m\u001b[38;5;241m1\u001b[39m):\n\u001b[0;32m---> 91\u001b[0m     l\u001b[38;5;241m.\u001b[39mappend(\u001b[43mBuilder\u001b[49m\u001b[43m(\u001b[49m\u001b[43mExeDesc\u001b[49m\u001b[43m(\u001b[49m\u001b[38;5;241;43m*\u001b[39;49m\u001b[38;5;241;43m*\u001b[39;49m\u001b[43mp\u001b[49m\u001b[43m)\u001b[49m\u001b[43m,\u001b[49m\u001b[43m \u001b[49m\u001b[38;5;241;43m*\u001b[39;49m\u001b[38;5;241;43m*\u001b[39;49m\u001b[43mkwargs\u001b[49m\u001b[43m)\u001b[49m\u001b[38;5;241;43m.\u001b[39;49m\u001b[43mbuild\u001b[49m\u001b[43m(\u001b[49m\u001b[43m)\u001b[49m)\n\u001b[1;32m     92\u001b[0m \u001b[38;5;28;01mreturn\u001b[39;00m l\n",
      "File \u001b[0;32m/cse142L/cfiddle/src/cfiddle/MakeBuilder.py:55\u001b[0m, in \u001b[0;36mMakeBuilder.build\u001b[0;34m(self)\u001b[0m\n\u001b[1;32m     54\u001b[0m     \u001b[38;5;28mprint\u001b[39m(\u001b[38;5;124m\"\u001b[39m\u001b[38;5;124m \u001b[39m\u001b[38;5;124m\"\u001b[39m\u001b[38;5;241m.\u001b[39mjoin(base_cmd \u001b[38;5;241m+\u001b[39m make_targets))\n\u001b[0;32m---> 55\u001b[0m output \u001b[38;5;241m=\u001b[39m \u001b[38;5;28;43mself\u001b[39;49m\u001b[38;5;241;43m.\u001b[39;49m\u001b[43m_invoke_make\u001b[49m\u001b[43m(\u001b[49m\u001b[43mbase_cmd\u001b[49m\u001b[43m \u001b[49m\u001b[38;5;241;43m+\u001b[39;49m\u001b[43m \u001b[49m\u001b[43mmake_targets\u001b[49m\u001b[43m)\u001b[49m\n\u001b[1;32m     56\u001b[0m \u001b[38;5;28;01mif\u001b[39;00m \u001b[38;5;28mself\u001b[39m\u001b[38;5;241m.\u001b[39m_verbose:\n",
      "File \u001b[0;32m/cse142L/cfiddle/src/cfiddle/MakeBuilder.py:125\u001b[0m, in \u001b[0;36mMakeBuilder._invoke_make\u001b[0;34m(self, cmd)\u001b[0m\n\u001b[1;32m    124\u001b[0m \u001b[38;5;28;01mif\u001b[39;00m \u001b[38;5;129;01mnot\u001b[39;00m success:\n\u001b[0;32m--> 125\u001b[0m     \u001b[38;5;28;01mraise\u001b[39;00m BuildFailure(\u001b[38;5;124m\"\u001b[39m\u001b[38;5;124m \u001b[39m\u001b[38;5;124m\"\u001b[39m\u001b[38;5;241m.\u001b[39mjoin(cmd), output)\n\u001b[1;32m    126\u001b[0m \u001b[38;5;28;01mreturn\u001b[39;00m output\n",
      "\u001b[0;31mBuildFailure\u001b[0m: Build command failed:\n\nmake -R -f /cse142L/cfiddle/src/cfiddle/resources/make/cfiddle.make MORE_INCLUDES=-I/cse142L/CSE141pp-Tool-Moneta/moneta/ BUILD=.cfiddle/builds/build/53c056c7a79560388b34cea1fa6a8ad8_6e980da47a73eb849df27d1005288d07 CFIDDLE_INCLUDE=/cse142L/cfiddle/src/cfiddle/resources/include CFIDDLE_VPATH=.cfiddle/builds/anonymous_code:.cfiddle/builds/build/53c056c7a79560388b34cea1fa6a8ad8_6e980da47a73eb849df27d1005288d07 TARGET=x86_64-linux-gnu .cfiddle/builds/build/53c056c7a79560388b34cea1fa6a8ad8_6e980da47a73eb849df27d1005288d07/6e980da47a73eb849df27d1005288d07.so\n\ng++ -c -Wall -Werror  -g3 -fPIC  -I. -I/cse142L/cfiddle/src/cfiddle/resources/include -I/usr/local/include  -I/cse142L/CSE141pp-Tool-Moneta/moneta/  -MMD -save-temps=obj -std=gnu++11  .cfiddle/builds/anonymous_code/6e980da47a73eb849df27d1005288d07.cpp -o .cfiddle/builds/build/53c056c7a79560388b34cea1fa6a8ad8_6e980da47a73eb849df27d1005288d07/6e980da47a73eb849df27d1005288d07.o\n.cfiddle/builds/anonymous_code/6e980da47a73eb849df27d1005288d07.cpp:1:2: error: ‘aoeu’ does not name a type\n    1 |  aoeu\n      |  ^~~~\nmake: *** [/cse142L/cfiddle/src/cfiddle/resources/make/cfiddle.make:48: .cfiddle/builds/build/53c056c7a79560388b34cea1fa6a8ad8_6e980da47a73eb849df27d1005288d07/6e980da47a73eb849df27d1005288d07.o] Error 1\n",
      "\nDuring handling of the above exception, another exception occurred:\n",
      "\u001b[0;31mCFiddleException\u001b[0m                          Traceback (most recent call last)",
      "Cell \u001b[0;32mIn [8], line 1\u001b[0m\n\u001b[0;32m----> 1\u001b[0m \u001b[43mbuild\u001b[49m\u001b[43m(\u001b[49m\u001b[43mcode\u001b[49m\u001b[43m(\u001b[49m\u001b[38;5;124;43mr\u001b[39;49m\u001b[38;5;124;43m\"\"\"\u001b[39;49m\u001b[38;5;124;43m aoeu\u001b[39;49m\u001b[38;5;124;43m\"\"\"\u001b[39;49m\u001b[43m)\u001b[49m\u001b[43m)\u001b[49m\n",
      "File \u001b[0;32m/cse142L/cfiddle/src/cfiddle/Exceptions.py:18\u001b[0m, in \u001b[0;36mhandle_cfiddle_exceptions.<locals>.wrapped\u001b[0;34m(*argc, **kwargs)\u001b[0m\n\u001b[1;32m     16\u001b[0m         \u001b[38;5;28;01mraise\u001b[39;00m\n\u001b[1;32m     17\u001b[0m     \u001b[38;5;28;01melse\u001b[39;00m:\n\u001b[0;32m---> 18\u001b[0m         \u001b[38;5;28;01mraise\u001b[39;00m CFiddleException(\u001b[38;5;124mf\u001b[39m\u001b[38;5;124m\"\u001b[39m\u001b[38;5;124mCFiddle encountered an error (call `enable_debug()` for full details):\u001b[39m\u001b[38;5;130;01m\\n\u001b[39;00m\u001b[38;5;132;01m{\u001b[39;00m\u001b[38;5;28mstr\u001b[39m(e)\u001b[38;5;132;01m}\u001b[39;00m\u001b[38;5;124m\"\u001b[39m)\n\u001b[1;32m     20\u001b[0m \u001b[38;5;28;01mexcept\u001b[39;00m \u001b[38;5;167;01mException\u001b[39;00m \u001b[38;5;28;01mas\u001b[39;00m e:\n\u001b[1;32m     21\u001b[0m     \u001b[38;5;28;01mif\u001b[39;00m in_debug():\n",
      "\u001b[0;31mCFiddleException\u001b[0m: CFiddle encountered an error (call `enable_debug()` for full details):\nBuild command failed:\n\nmake -R -f /cse142L/cfiddle/src/cfiddle/resources/make/cfiddle.make MORE_INCLUDES=-I/cse142L/CSE141pp-Tool-Moneta/moneta/ BUILD=.cfiddle/builds/build/53c056c7a79560388b34cea1fa6a8ad8_6e980da47a73eb849df27d1005288d07 CFIDDLE_INCLUDE=/cse142L/cfiddle/src/cfiddle/resources/include CFIDDLE_VPATH=.cfiddle/builds/anonymous_code:.cfiddle/builds/build/53c056c7a79560388b34cea1fa6a8ad8_6e980da47a73eb849df27d1005288d07 TARGET=x86_64-linux-gnu .cfiddle/builds/build/53c056c7a79560388b34cea1fa6a8ad8_6e980da47a73eb849df27d1005288d07/6e980da47a73eb849df27d1005288d07.so\n\ng++ -c -Wall -Werror  -g3 -fPIC  -I. -I/cse142L/cfiddle/src/cfiddle/resources/include -I/usr/local/include  -I/cse142L/CSE141pp-Tool-Moneta/moneta/  -MMD -save-temps=obj -std=gnu++11  .cfiddle/builds/anonymous_code/6e980da47a73eb849df27d1005288d07.cpp -o .cfiddle/builds/build/53c056c7a79560388b34cea1fa6a8ad8_6e980da47a73eb849df27d1005288d07/6e980da47a73eb849df27d1005288d07.o\n.cfiddle/builds/anonymous_code/6e980da47a73eb849df27d1005288d07.cpp:1:2: error: ‘aoeu’ does not name a type\n    1 |  aoeu\n      |  ^~~~\nmake: *** [/cse142L/cfiddle/src/cfiddle/resources/make/cfiddle.make:48: .cfiddle/builds/build/53c056c7a79560388b34cea1fa6a8ad8_6e980da47a73eb849df27d1005288d07/6e980da47a73eb849df27d1005288d07.o] Error 1\n"
     ]
    }
   ],
   "source": [
    "build(code(r\"\"\" aoeu\"\"\"))"
   ]
  },
  {
   "cell_type": "code",
   "execution_count": null,
   "metadata": {},
   "outputs": [],
   "source": []
  }
 ],
 "metadata": {
  "kernelspec": {
   "display_name": "Python 3 (ipykernel)",
   "language": "python",
   "name": "python3"
  },
  "language_info": {
   "codemirror_mode": {
    "name": "ipython",
    "version": 3
   },
   "file_extension": ".py",
   "mimetype": "text/x-python",
   "name": "python",
   "nbconvert_exporter": "python",
   "pygments_lexer": "ipython3",
   "version": "3.10.6"
  },
  "toc": {
   "base_numbering": 1,
   "nav_menu": {},
   "number_sections": true,
   "sideBar": true,
   "skip_h1_title": false,
   "title_cell": "Table of Contents",
   "title_sidebar": "Contents",
   "toc_cell": false,
   "toc_position": {
    "height": "calc(100% - 180px)",
    "left": "10px",
    "top": "150px",
    "width": "384px"
   },
   "toc_section_display": true,
   "toc_window_display": false
  }
 },
 "nbformat": 4,
 "nbformat_minor": 4
}
